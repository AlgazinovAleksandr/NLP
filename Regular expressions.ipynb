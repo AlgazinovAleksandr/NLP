{
 "cells": [
  {
   "cell_type": "markdown",
   "metadata": {},
   "source": [
    "# Intro\n",
    "\n",
    "A popular opinion says that the best option in Machine Learning is not to use it if possible. Indeed, Machine Learning methods involve AI, so what for to trust our tasks to AI when we can easily solve them with human intelligence. It turns out that when we want to process data using patterns, re Python library is usually sufficient.\n",
    "\n",
    "Note that I will not explain how the regular expressions work (to see this you can check the documentation https://docs.python.org/3/library/re.html). I will just show some examples.\n",
    "\n",
    "Another important point that I want to put an emphasis on is that text is a complex data structure, and we need to be very careful when working with it. Otherwise, many mistakes can be made. "
   ]
  },
  {
   "cell_type": "markdown",
   "metadata": {},
   "source": [
    "# 1 Extract phone numbers from text\n",
    "\n",
    "Let's say that a phone number (without country code, 10 digits) can be represented as follows:\n",
    "\n",
    "1) 1234567891\n",
    "\n",
    "2) (123) 4567891\n",
    "\n",
    "3) (123) 456-78-91\n",
    "\n",
    "For the example this is enough. Now we need to write a regular expression which will find a phone number, if it is indeed a phone number, and return nothing, if it is not (does not match one of three examples).\n",
    "\n",
    "A good website which might be useful in finding a proper RegEx is https://regex101.com."
   ]
  },
  {
   "cell_type": "code",
   "execution_count": 1,
   "metadata": {},
   "outputs": [],
   "source": [
    "import re\n",
    "\n",
    "def return_number(text):\n",
    "    matches = re.findall('\\d{10}|\\(\\d{3}\\)\\s*\\d{7}|\\(\\d{3}\\)\\s*\\d{3}\\-\\d{2}\\-\\d{2}', text)\n",
    "    if len(matches) == 0:\n",
    "        return 'Nothing found'\n",
    "    return matches"
   ]
  },
  {
   "cell_type": "markdown",
   "metadata": {},
   "source": [
    "### 1.1 Check if it works\n",
    "\n",
    "Now let's give some correct examples to see that the algorithm works."
   ]
  },
  {
   "cell_type": "code",
   "execution_count": 2,
   "metadata": {},
   "outputs": [
    {
     "name": "stdout",
     "output_type": "stream",
     "text": [
      "['1234567891']\n",
      "\n",
      "['(123) 4567891']\n",
      "\n",
      "['(123) 456-78-91']\n"
     ]
    }
   ],
   "source": [
    "print(return_number('aaaa 1234567891 aaaaa')) # first case\n",
    "print()\n",
    "print(return_number('aaaaa (123) 4567891 aaaaaa')) # second case\n",
    "print()\n",
    "print(return_number('aaaaa(123) 456-78-91aaaa')) # third case"
   ]
  },
  {
   "cell_type": "markdown",
   "metadata": {},
   "source": [
    "Everything seems fine here."
   ]
  },
  {
   "cell_type": "markdown",
   "metadata": {},
   "source": [
    "### 1.2 A common mistake\n",
    "\n",
    "Often people tend to find confirmation of their hypotheses rather than try to disprove them. In this case, we would stop at the last example, saying that the code works correctly. That being said, I suggest going further and checking in which cases the code might not work correctly by trying it with examples of not phone numbers."
   ]
  },
  {
   "cell_type": "code",
   "execution_count": 3,
   "metadata": {},
   "outputs": [
    {
     "name": "stdout",
     "output_type": "stream",
     "text": [
      "Nothing found\n",
      "\n",
      "['1234567891']\n",
      "\n",
      "Nothing found\n",
      "\n",
      "Nothing found\n",
      "\n",
      "Nothing found\n"
     ]
    }
   ],
   "source": [
    "print(return_number('aa123456789aa')) # less than 10 digits\n",
    "print()\n",
    "print(return_number('aaa12345678911aaa')) # more than 10 digits\n",
    "print()\n",
    "print(return_number('aaaa (1234) 567891aaaa')) # 4 digits in brackets\n",
    "print()\n",
    "print(return_number('aaaa (123) 456789 aaaaa')) # less than 7 digits after brackets\n",
    "print()\n",
    "print(return_number('a a a a (123) 456-789-1a a a a ')) # more than 2 digits after -"
   ]
  },
  {
   "cell_type": "markdown",
   "metadata": {},
   "source": [
    "As we see, we made a mistake. Let's rewrite our code and check if now it is fine."
   ]
  },
  {
   "cell_type": "markdown",
   "metadata": {},
   "source": [
    "### 1.3 Correcting mistakes"
   ]
  },
  {
   "cell_type": "code",
   "execution_count": 4,
   "metadata": {},
   "outputs": [],
   "source": [
    "import re\n",
    "\n",
    "def return_number_fixed(text):\n",
    "    \n",
    "    matches = re.findall(r'\\b\\d{10}\\b|\\(\\d{3}\\)\\s*\\d{7}|\\(\\d{3}\\)\\s*\\d{3}\\-\\d{2}\\-\\d{2}', text)\n",
    "    \n",
    "    if len(matches) == 0:\n",
    "        return 'Nothing found'\n",
    "    return matches"
   ]
  },
  {
   "cell_type": "code",
   "execution_count": 5,
   "metadata": {},
   "outputs": [
    {
     "name": "stdout",
     "output_type": "stream",
     "text": [
      "['1234567891']\n",
      "\n",
      "['(123) 4567891']\n",
      "\n",
      "['(123) 456-78-91']\n"
     ]
    }
   ],
   "source": [
    "print(return_number_fixed('1234567891')) # first case\n",
    "print()\n",
    "print(return_number_fixed('(123) 4567891')) # second case\n",
    "print()\n",
    "print(return_number_fixed('(123) 456-78-91')) # third case"
   ]
  },
  {
   "cell_type": "code",
   "execution_count": 6,
   "metadata": {},
   "outputs": [
    {
     "name": "stdout",
     "output_type": "stream",
     "text": [
      "Nothing found\n",
      "\n",
      "Nothing found\n",
      "\n",
      "Nothing found\n",
      "\n",
      "Nothing found\n",
      "\n",
      "Nothing found\n",
      "\n",
      "Nothing found\n",
      "\n",
      "['1234567891']\n",
      "\n",
      "Nothing found\n",
      "\n",
      "Nothing found\n"
     ]
    }
   ],
   "source": [
    "print(return_number_fixed('123456789')) # less than 10 digits\n",
    "print()\n",
    "print(return_number_fixed('12345678911')) # more than 10 digits\n",
    "print()\n",
    "print(return_number_fixed('(1234) 567891')) # 4 digits in brackets\n",
    "print()\n",
    "print(return_number_fixed('(123) 456789')) # less than 7 digits after brackets\n",
    "print()\n",
    "print(return_number_fixed('(123) 456-789-1')) # more than 2 digits after -\n",
    "\n",
    "print()\n",
    "print(return_number_fixed(' 1234     ')) # less than 4 digits and spaces\n",
    "print()\n",
    "print(return_number_fixed('     1234567891    ')) # 10 digits between spaces\n",
    "print()\n",
    "print(return_number_fixed('     123456 7891    ')) # a space between digits\n",
    "print()\n",
    "print(return_number_fixed('     12345678911    ')) # more than 10 digits"
   ]
  },
  {
   "cell_type": "markdown",
   "metadata": {},
   "source": [
    "As we see, the previous mistake was corrected. However, there is still an issue if we put a space between numbers. Despite the fact that it does not match our patterns, I do not see a problem in it."
   ]
  },
  {
   "cell_type": "markdown",
   "metadata": {},
   "source": [
    "# 2 Split text into sentences\n",
    "\n",
    "Suupose we have a big text and we want to get a list of sentences. We will assume that a dot, an exclamation mark, a question mark, or a text break identify the end of a current sentence and the beginning of a new one."
   ]
  },
  {
   "cell_type": "code",
   "execution_count": 7,
   "metadata": {},
   "outputs": [],
   "source": [
    "def split_text_to_sentences(text):\n",
    "    if text == '':\n",
    "        return 'There is no text'\n",
    "    return re.split(r'[.!?\\n]', text)"
   ]
  },
  {
   "cell_type": "markdown",
   "metadata": {},
   "source": [
    "### 2.1 Sanity check"
   ]
  },
  {
   "cell_type": "code",
   "execution_count": 8,
   "metadata": {},
   "outputs": [
    {
     "data": {
      "text/plain": [
       "['AAAAA', ' aaaaa', ' a', ' a', 'bbbbb']"
      ]
     },
     "execution_count": 8,
     "metadata": {},
     "output_type": "execute_result"
    }
   ],
   "source": [
    "text = '''AAAAA. aaaaa! a? a\n",
    "bbbbb'''\n",
    "split_text_to_sentences(text)"
   ]
  },
  {
   "cell_type": "markdown",
   "metadata": {},
   "source": [
    "### 2.2 Try to break the code\n",
    "\n",
    "Suppose that we place several exclamation marks (or other signs) in a row. Probably, in this case it makes sense to recognize it as a single delimiter."
   ]
  },
  {
   "cell_type": "code",
   "execution_count": 9,
   "metadata": {},
   "outputs": [
    {
     "data": {
      "text/plain": [
       "['AAAAA', ' aaaaa', '', '', '', ' a', ' a', 'bbbbb']"
      ]
     },
     "execution_count": 9,
     "metadata": {},
     "output_type": "execute_result"
    }
   ],
   "source": [
    "text = '''AAAAA. aaaaa!!!! a? a\n",
    "bbbbb'''\n",
    "split_text_to_sentences(text)\n",
    "# the code broke"
   ]
  },
  {
   "cell_type": "markdown",
   "metadata": {},
   "source": [
    "Now it is time to improve the code."
   ]
  },
  {
   "cell_type": "markdown",
   "metadata": {},
   "source": [
    "### 2.3 Improvements"
   ]
  },
  {
   "cell_type": "code",
   "execution_count": 10,
   "metadata": {},
   "outputs": [],
   "source": [
    "def split_text_to_sentences_modified(text):\n",
    "    if text == '':\n",
    "        return 'There is no text'\n",
    "    return re.split(r'[.!?\\n]+', text)"
   ]
  },
  {
   "cell_type": "code",
   "execution_count": 11,
   "metadata": {},
   "outputs": [
    {
     "data": {
      "text/plain": [
       "['AAAAA', ' aaaaa', ' a', ' a', 'bbbbb']"
      ]
     },
     "execution_count": 11,
     "metadata": {},
     "output_type": "execute_result"
    }
   ],
   "source": [
    "text = '''AAAAA. aaaaa! a? a\n",
    "bbbbb'''\n",
    "split_text_to_sentences_modified(text)"
   ]
  },
  {
   "cell_type": "code",
   "execution_count": 12,
   "metadata": {},
   "outputs": [
    {
     "data": {
      "text/plain": [
       "['AAAAA', ' aaaaa', ' a', ' a', 'bbbbb']"
      ]
     },
     "execution_count": 12,
     "metadata": {},
     "output_type": "execute_result"
    }
   ],
   "source": [
    "text = '''AAAAA... aaaaa!!!! a? a\n",
    "bbbbb'''\n",
    "split_text_to_sentences_modified(text)\n",
    "# Now everything seems fine"
   ]
  },
  {
   "cell_type": "code",
   "execution_count": null,
   "metadata": {},
   "outputs": [],
   "source": []
  },
  {
   "cell_type": "markdown",
   "metadata": {},
   "source": [
    "# 3 Information extraction from Google form\n",
    "\n",
    "Suppose people fill the form and there is a question 'Enter your full name'. There are more questions, and they are separated by ';'. The idea is to write a function which returns all the text between 'Enter your full name: ' and ';' (the full name of the person)."
   ]
  },
  {
   "cell_type": "code",
   "execution_count": 13,
   "metadata": {},
   "outputs": [],
   "source": [
    "def search_full_name(text):\n",
    "    try:\n",
    "        return re.search(r'Enter your full name:(.*?);', text)[1].strip()\n",
    "    except:\n",
    "        return 'Something went wrong'"
   ]
  },
  {
   "cell_type": "markdown",
   "metadata": {},
   "source": [
    "### 3.1 Check if the solution works"
   ]
  },
  {
   "cell_type": "code",
   "execution_count": 14,
   "metadata": {},
   "outputs": [
    {
     "data": {
      "text/plain": [
       "'dfgsdfsgdfgdfsgsdfvd'"
      ]
     },
     "execution_count": 14,
     "metadata": {},
     "output_type": "execute_result"
    }
   ],
   "source": [
    "search_full_name('Enter your full name: dfgsdfsgdfgdfsgsdfvd;')"
   ]
  },
  {
   "cell_type": "code",
   "execution_count": 15,
   "metadata": {},
   "outputs": [
    {
     "data": {
      "text/plain": [
       "'my name is Aleksandr'"
      ]
     },
     "execution_count": 15,
     "metadata": {},
     "output_type": "execute_result"
    }
   ],
   "source": [
    "search_full_name('''Here is some weird text bla bla blaEnter your full name: my name is Aleksandr;and some another weird text''')\n",
    "# fine"
   ]
  },
  {
   "cell_type": "markdown",
   "metadata": {},
   "source": [
    "### 3.2 Try line wrapping\n",
    "\n",
    "As we see, the text can be massive. So, for conveniece purposes, I would like to put it in several lines. However, our code will not work in such case."
   ]
  },
  {
   "cell_type": "code",
   "execution_count": 16,
   "metadata": {},
   "outputs": [
    {
     "data": {
      "text/plain": [
       "'Something went wrong'"
      ]
     },
     "execution_count": 16,
     "metadata": {},
     "output_type": "execute_result"
    }
   ],
   "source": [
    "search_full_name('''Here is some weird text bla bla blaEnter your full \n",
    "name: name surname another part of name; \n",
    "                 and some another weird text''')"
   ]
  },
  {
   "cell_type": "markdown",
   "metadata": {},
   "source": [
    "### 3.3 Solution\n",
    "\n",
    "Before putting text into a search, we need to preprocess it. In our case, we will simply make it one line by deleting the line separator '\\n'."
   ]
  },
  {
   "cell_type": "code",
   "execution_count": 17,
   "metadata": {},
   "outputs": [],
   "source": [
    "def search_full_name_fix_bug(text):\n",
    "    text = text.replace('\\n', '')\n",
    "    try:\n",
    "        return re.search(r'Enter your full name:(.*?);', text, re.DOTALL)[1].strip()\n",
    "    except:\n",
    "        return 'Something went wrong'"
   ]
  },
  {
   "cell_type": "code",
   "execution_count": 18,
   "metadata": {},
   "outputs": [
    {
     "data": {
      "text/plain": [
       "'dfgsdfsgdfgdfsgsdfvd'"
      ]
     },
     "execution_count": 18,
     "metadata": {},
     "output_type": "execute_result"
    }
   ],
   "source": [
    "search_full_name_fix_bug('Enter your full name: dfgsdfsgdfgdfsgsdfvd;')"
   ]
  },
  {
   "cell_type": "code",
   "execution_count": 19,
   "metadata": {},
   "outputs": [
    {
     "data": {
      "text/plain": [
       "'my name is Aleksandr'"
      ]
     },
     "execution_count": 19,
     "metadata": {},
     "output_type": "execute_result"
    }
   ],
   "source": [
    "search_full_name_fix_bug('''Here is some weird text bla bla blaEnter your full name: my name is Aleksandr;and some another weird text''')\n"
   ]
  },
  {
   "cell_type": "code",
   "execution_count": 20,
   "metadata": {},
   "outputs": [
    {
     "data": {
      "text/plain": [
       "'name surname another part of name'"
      ]
     },
     "execution_count": 20,
     "metadata": {},
     "output_type": "execute_result"
    }
   ],
   "source": [
    "search_full_name_fix_bug('''Here is some weird text bla bla blaEnter your full \n",
    "name: name surname another part of name; \n",
    "                 and some another weird text''')"
   ]
  },
  {
   "cell_type": "markdown",
   "metadata": {},
   "source": [
    "Now it is fine."
   ]
  },
  {
   "cell_type": "markdown",
   "metadata": {},
   "source": [
    "# Conclusion\n",
    "\n",
    "From this notebook I want to make two important conclusions:\n",
    "\n",
    "1) Despite the fact that NLP is a very powerful set of tools, and one of the main trends in modern Artificial Intelligence, it is not always needed. In some problems, simple regular expressions can be a faster and more efficient way to create a good solution, not to mention that in some cases NLP methods are not applicable\n",
    "\n",
    "2) Always check the results. Very often, we need to think not about whether the solution works in principle, but about when it might not work correctly. This can save us a lot of time and effort"
   ]
  },
  {
   "cell_type": "code",
   "execution_count": null,
   "metadata": {},
   "outputs": [],
   "source": []
  },
  {
   "cell_type": "code",
   "execution_count": null,
   "metadata": {},
   "outputs": [],
   "source": []
  }
 ],
 "metadata": {
  "kernelspec": {
   "display_name": "Python 3",
   "language": "python",
   "name": "python3"
  },
  "language_info": {
   "codemirror_mode": {
    "name": "ipython",
    "version": 3
   },
   "file_extension": ".py",
   "mimetype": "text/x-python",
   "name": "python",
   "nbconvert_exporter": "python",
   "pygments_lexer": "ipython3",
   "version": "3.7.6"
  }
 },
 "nbformat": 4,
 "nbformat_minor": 4
}
